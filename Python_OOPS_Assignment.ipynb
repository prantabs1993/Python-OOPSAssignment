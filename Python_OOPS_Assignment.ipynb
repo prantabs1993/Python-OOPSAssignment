{
  "nbformat": 4,
  "nbformat_minor": 0,
  "metadata": {
    "colab": {
      "provenance": []
    },
    "kernelspec": {
      "name": "python3",
      "display_name": "Python 3"
    },
    "language_info": {
      "name": "python"
    }
  },
  "cells": [
    {
      "cell_type": "markdown",
      "source": [
        "**Theory questions and answers**"
      ],
      "metadata": {
        "id": "tekBumUzDpaN"
      }
    },
    {
      "cell_type": "markdown",
      "source": [
        "1. What is Object-Oriented Programming (OOP)?\n",
        "Ans.Object-Oriented Programming (OOP) is a programming paradigm that organizes software design around objects, which are data structures containing both data (attributes) and methods (functions) that operate on that data, enabling code reusability and modularity\n",
        "\n",
        "2.What is a class in OOP?\n",
        "Ans.In Object-Oriented Programming (OOP), a class is a blueprint or template for creating objects, defining their properties (attributes) and behaviors (methods)\n",
        "\n",
        "3.What is an object in OOP?\n",
        "Ans.In Object-Oriented Programming (OOP), an object is a fundamental unit that encapsulates data (attributes) and the actions (methods) that can be performed on that data, representing a real-world entity or concept.\n",
        "\n",
        "4.What is the difference between abstraction and encapsulation?\n",
        "Ans.Abstraction hides complex implementation details, focusing on essential features, while encapsulation bundles data and methods into a single unit (like a class) and controls access to them, promoting data security and modularity.\n",
        "\n",
        "5.What are dunder methods in Python?\n",
        "Ans.In Python, \"dunder\" methods, also known as \"magic\" or \"special\" methods, are methods with names that start and end with double underscores (e.g., __init__, __str__) that allow you to customize how your classes interact with the Python interpreter and built-in functions.Dunder methods are special methods in Python that are called implicitly by the Python interpreter in certain situations, such as when you use a built-in function or operator on an object of your class.\n",
        "The term \"dunder\" is short for \"double underscore\" because these methods have double underscores before and after their names.\n",
        "\n",
        "6.Explain the concept of inheritance in OOP.\n",
        "Ans.In Object-Oriented Programming (OOP), inheritance allows a class (the derived or child class) to inherit properties and behaviors from another class (the base or parent class), promoting code reuse and creating hierarchical relationships between classes.\n",
        "\n",
        "7.What is polymorphism in OOP?\n",
        "Ans.In Object-Oriented Programming (OOP), polymorphism means \"many forms\" and allows objects of different classes to be treated as objects of a common superclass, enabling them to respond differently to the same method call. Polymorphism is a core concept in OOP that enables objects of different classes to be handled through a single interface, allowing them to exhibit different behaviors based on their specific class type.\n",
        "\n",
        "8. How is encapsulation achieved in Python?\n",
        "Ans.In Python, encapsulation, which bundles data and methods within a class and restricts access to some members, is achieved through naming conventions: using a single underscore _ for protected members (accessible within the class and its subclasses) and a double underscore __ for private members (accessible only within the class).\n",
        "\n",
        "9. What is a constructor in Python?\n",
        "Ans.In Python, a constructor is a special method that is called automatically when an object is created from a class. Its main role is to initialize the object by setting up its attributes or state.\n",
        "\n",
        "The method __new__ is the constructor that creates a new instance of the class while __init__ is the initializer that sets up the instance’s attributes after creation. These methods work together to manage object creation and initialization.\n",
        "\n",
        "10. What are class and static methods in Python?\n",
        "Ans.The @classmethod decorator is a built-in function decorator that is an expression that gets evaluated after your function is defined. The result of that evaluation shadows your function definition. A class method receives the class as an implicit first argument, just like an instance method receives the instance\n",
        "\n",
        "Syntax Python Class Method:\n",
        "\n",
        "class C(object):\n",
        "    @classmethod\n",
        "    def fun(cls, arg1, arg2, ...):\n",
        "       ....\n",
        "fun: function that needs to be converted into a class method\n",
        "returns: a class method for function.\n",
        "\n",
        "A static method does not receive an implicit first argument. A static method is also a method that is bound to the class and not the object of the class. This method can’t access or modify the class state. It is present in a class because it makes sense for the method to be present in class.\n",
        "\n",
        "Syntax Python Static Method:\n",
        "\n",
        "class C(object):\n",
        "    @staticmethod\n",
        "    def fun(arg1, arg2, ...):\n",
        "        ...\n",
        "returns: a static method for function fun.\n",
        "\n",
        "11.What is method overloading in Python?\n",
        "Ans.Two or more methods have the same name but different numbers of parameters or different types of parameters, or both. These methods are called overloaded methods and this is called method overloading.\n",
        "\n",
        "Like other languages (for example, method overloading in C++) do, python does not support method overloading by default. But there are different ways to achieve method overloading in Python.\n",
        "\n",
        "12.What is method overriding in OOP?\n",
        "Ans.In Object-Oriented Programming (OOP), method overriding allows a subclass to provide a specific implementation of a method that is already defined in its superclass, enabling customized behavior while maintaining the same method signature.\n",
        "\n",
        "13.What is a property decorator in Python?\n",
        "Ans.A decorator feature in Python wraps in a function, appends several functionalities to existing code and then returns it. Methods and functions are known to be callable as they can be called. Therefore, a decorator is also a callable that returns callable. This is also known as metaprogramming as at compile time a section of program alters another section of the program. Note: For more information, refer to Decorators in Python\n",
        "\n",
        "Python @property decorator:\n",
        "@property decorator is a built-in decorator in Python which is helpful in defining the properties effortlessly without manually calling the inbuilt function property(). Which is used to return the property attributes of a class from the stated getter, setter and deleter as parameters.\n",
        "\n",
        "\n",
        "14. Why is polymorphism important in OOP?\n",
        "Ans.Polymorphism is the ability of any data to be processed in more than one form. The word itself indicates the meaning as poly means many and morphism means types. Polymorphism is one of the most important concepts of object-oriented programming languages. The most common use of polymorphism in object-oriented programming occurs when a parent class reference is used to refer to a child class object.Polymorphism is the key power of object-oriented programming. It is so important that languages that don’t support polymorphism cannot advertise themselves as Object-Oriented languages.\n",
        "\n",
        "15. What is an abstract class in Python?\n",
        "Ans.In Python, an abstract class is a blueprint for other classes, containing abstract methods (methods without implementation) that must be implemented by its subclasses. You can't directly create instances of an abstract class; it's meant to be inherited from. Abstract classes are used to define a common structure or interface for a group of related classes.\n",
        "\n",
        "16.What are the advantages of OOP?\n",
        "Ans.Object-Oriented Programming (OOP) offers advantages like improved code organization through encapsulation, reusability via inheritance, and flexibility with polymorphism, simplifying complex systems through abstraction, resulting in modular, maintainable, and scalable software solutions.\n",
        "\n",
        "17.What is the difference between a class variable and an instance variable?\n",
        "Ans.Instance Variable: It is basically a class variable without a static modifier and is usually shared by all class instances. Across different objects, these variables can have different values. They are tied to a particular object instance of the class, therefore, the contents of an instance variable are totally independent of one object instance to others.\n",
        "\n",
        "Example:\n",
        "\n",
        "class Taxes  \n",
        "{  \n",
        "   int count;  \n",
        "   /*...*/  \n",
        "}  \n",
        "Class Variable: It is basically a static variable that can be declared anywhere at class level with static. Across different objects, these variables can have only one value. These variables are not tied to any particular object of the class, therefore, can share across all objects of the class.  \n",
        "\n",
        "Example:\n",
        "\n",
        "class Taxes  \n",
        "{  \n",
        "   static int count;  \n",
        "   /*...*/  \n",
        "}  \n",
        "\n",
        "18.What is multiple inheritance in Python?\n",
        "Ans.Multiple inheritances are when a child's class is derived from two or more parent classes. For example, you are inheriting some of the features from your father and some from your mother. In this case, we have to write the names of both parent classes inside the brackets of the child class.\n",
        "\n",
        "19. Explain the purpose of ‘’__str__’ and ‘__repr__’ ‘ methods in Python.\n",
        "Ans.In Python, the str() and repr() functions are used to obtain string representations of objects. While they may seem similar at first glance, there are some differences in how they behave. Both of the functions can be helpful in debugging or printing useful information about the object.\n",
        "\n",
        "Python str()\n",
        "In the given example, we are using the str() function on a string and floating values in Python.\n",
        "\n",
        "\n",
        "\n",
        "\n",
        "s = 'Hello, Geeks.'\n",
        "print (str(s))\n",
        "print (str(2.0/11.0))\n",
        "Output:\n",
        "\n",
        "Hello, Geeks.\n",
        "0.181818181818\n",
        "Python repr()\n",
        "In the given example, we are using the repr() function on a string and floating values in Python.\n",
        "\n",
        "\n",
        "\n",
        "\n",
        "s = 'Hello, Geeks.'\n",
        "print (repr(s))\n",
        "print (repr(2.0/11.0))\n",
        "Output:\n",
        "\n",
        "'Hello, Geeks.'\n",
        "0.18181818181818182\n",
        "\n",
        "20.What is the significance of the ‘super()’ function in Python?\n",
        "Ans.In Python, the super() function is used to refer to the parent class or superclass. It allows you to call methods defined in the superclass from the subclass, enabling you to extend and customize the functionality inherited from the parent class.\n",
        "\n",
        "21. What is the significance of the __del__ method in Python?\n",
        "Ans.The __del__ method is a special method in Python that is called when an object is about to be destroyed. It allows you to define specific cleanup actions that should be taken when an object is garbage collected. This method can be particularly useful for releasing external resources such as file handles, network connections, or database connections that the object may hold. It is a dunder method.\n",
        "\n",
        "22.What is the difference between @staticmethod and @classmethod in Python?\n",
        "Ans.In Python, @classmethod binds a method to the class itself, allowing access to class-level data (using cls as the first argument), while @staticmethod defines a method that's logically related to the class but doesn't interact with instances or the class itself.\n",
        "Here's a more detailed breakdown:\n",
        "1. @classmethod\n",
        "Binding to the Class:\n",
        "A class method is bound to the class, meaning it can access and modify class-level attributes (attributes defined directly within the class, not within an instance).\n",
        "First Argument (cls):\n",
        "When called, a class method automatically receives the class itself as its first argument, conventionally named cls.\n",
        "Use Cases:\n",
        "Factory Methods: Creating instances of a class with different initialization logic.\n",
        "Accessing Class Attributes: When you need a method that operates on or modifies the class's state.\n",
        "Example:\n",
        "Python\n",
        "\n",
        "class MyClass:\n",
        "    class_attribute = \"Some value\"\n",
        "\n",
        "    @classmethod\n",
        "    def class_method(cls):\n",
        "        print(cls.class_attribute)\n",
        "2. @staticmethod\n",
        "Not Bound to Class or Instance:\n",
        "A static method is not bound to either the class or an instance of the class.\n",
        "No Implicit Arguments:\n",
        "Static methods don't receive any implicit arguments (like self for instance methods or cls for class methods).\n",
        "Use Cases:\n",
        "Utility Functions: When you have a function that's logically related to a class but doesn't need to access or modify class or instance data.\n",
        "Organizing Code: Grouping related functions within a class for better organization.\n",
        "Example:\n",
        "Python\n",
        "\n",
        "class MyClass:\n",
        "    @staticmethod\n",
        "    def static_method():\n",
        "        print(\"This is a static method\")\n",
        "\n",
        "23.How does polymorphism work in Python with inheritance ?\n",
        "Ans.Polymorphism in Python is the ability of one object to take on multiple forms. This is done by creating multiple classes inherited from a single base class. Each class can then be used interchangeably, as they all share the same interface. This allows for a great degree of flexibility when it comes to programming.In Python, polymorphism with inheritance works through method overriding, where a child class can redefine a method inherited from its parent class, allowing different classes to respond to the same method call in their own specific ways.\n",
        "\n",
        "24.What is method chaining in Python OOP?\n",
        "Ans.Method chaining is a powerful technique in Python that enables us to perform a sequence of operations on an object in a concise and readable manner. By returning the modified object from each method, we can chain multiple method calls together, making our code more expressive and efficient.\n",
        "\n",
        "25.What is the purpose of the __call__ method in Python?\n",
        "Ans.Python has a set of built-in methods and\n",
        "\n",
        "__call__\n",
        "\n",
        "is one of them. The\n",
        "\n",
        "__call__\n",
        "\n",
        "method enables Python programmers to write classes where the instances behave like functions and can be called like a function. When the instance is called as a function; if this method is defined,\n",
        "\n",
        "x(arg1, arg2, ...)\n",
        "\n",
        "is a shorthand for\n",
        "\n",
        "x.__call__(arg1, arg2, ...)\n",
        "\n"
      ],
      "metadata": {
        "id": "_wg1UUNzECpc"
      }
    },
    {
      "cell_type": "code",
      "source": [
        "#Practical Questions\n",
        "#1. Create a parent class Animal with a method speak() that prints a generic message. Create a child class Dog\n",
        "#that overrides the speak() method to print \"Bark!\".\n",
        "class Animal:\n",
        "    def speak(self):\n",
        "        print('generic Sound of Animal')\n",
        "class Dog(Animal):\n",
        "   def speak(self):\n",
        "    print('Bark!')\n",
        "\n",
        "Dog = Dog()\n",
        "Dog.speak()"
      ],
      "metadata": {
        "colab": {
          "base_uri": "https://localhost:8080/"
        },
        "id": "gZnlpPPu2V0H",
        "outputId": "546a7567-4dc6-4b10-b4d4-3b0d9a028df8"
      },
      "execution_count": null,
      "outputs": [
        {
          "output_type": "stream",
          "name": "stdout",
          "text": [
            "Bark!\n"
          ]
        }
      ]
    },
    {
      "cell_type": "code",
      "source": [
        "#2. Write a program to create an abstract class Shape with a method area(). Derive classes Circle and Rectangle\n",
        "#from it and implement the area() method in both.\n",
        "from abc import ABC, abstractmethod\n",
        "import math\n",
        "\n",
        "class Shape(ABC):\n",
        "    @abstractmethod\n",
        "    def area(self):\n",
        "        pass\n",
        "\n",
        "class Circle(Shape):\n",
        "\n",
        "    def __init__(self,r):\n",
        "      self.r = r\n",
        "    def area(self) :\n",
        "      return( 3.14*self.r**2)\n",
        "\n",
        "class Rectangle(Shape):\n",
        "\n",
        "    def __init__(self, l, b):\n",
        "      self.l = l\n",
        "      self.b = b\n",
        "    def area(self):\n",
        "      return(self.l*self.b)\n",
        "cir = Circle(5)\n",
        "print(cir.area())\n",
        "rect = Rectangle(3, 4)\n",
        "print(rect.area())\n"
      ],
      "metadata": {
        "colab": {
          "base_uri": "https://localhost:8080/"
        },
        "id": "CQrTVZ_f3OtZ",
        "outputId": "7a50ba92-4bde-4213-e29b-8f8ad8f81be2"
      },
      "execution_count": null,
      "outputs": [
        {
          "output_type": "stream",
          "name": "stdout",
          "text": [
            "78.5\n",
            "12\n"
          ]
        }
      ]
    },
    {
      "cell_type": "code",
      "source": [
        "#3. Implement a multi-level inheritance scenario where a class Vehicle has an attribute type. Derive a class Car\n",
        "#and further derive a class ElectricCar that adds a battery attribute.\n",
        "\n",
        "class vehicle():\n",
        "  def __init__(self, type):\n",
        "    self.type = type\n",
        "    print ('Inside class vehicle')\n",
        "    class car(vehicle):\n",
        "      def __init__(self, type, no_of_seats):\n",
        "        super().__init__(type)\n",
        "        self.no_of_seats = no_of_seats\n",
        "        print ('Inside class car')\n",
        "        class ElectricCar(car):\n",
        "          def __init__(self, type, no_of_seats, battery):\n",
        "            super().__init__(type, no_of_seats)\n",
        "            self.battery = battery\n",
        "            print ('Inside class ElectricCar')\n",
        "\n",
        "\n",
        "\n",
        "hyundai = vehicle('car')\n",
        "print(hyundai.type)"
      ],
      "metadata": {
        "colab": {
          "base_uri": "https://localhost:8080/"
        },
        "id": "2e3kYxbg4jv_",
        "outputId": "43926143-6411-4e5b-9394-05172ba6e790"
      },
      "execution_count": null,
      "outputs": [
        {
          "output_type": "stream",
          "name": "stdout",
          "text": [
            "Inside class vehicle\n",
            "car\n"
          ]
        }
      ]
    },
    {
      "cell_type": "code",
      "source": [
        "#4.Demonstrate polymorphism by creating a base class Bird with a method fly(). Create two derived classes\n",
        "#Sparrow and Penguin that override the fly() method.\n",
        "class Bird:\n",
        "  def fly(self):\n",
        "    print('Birds can fly')\n",
        "class Sparrow(Bird):\n",
        "  def fly(self):\n",
        "    print('Sparrows can fly')\n",
        "class Penguin(Bird):\n",
        " def fly(self):\n",
        "  print('Penguins cannot fly')"
      ],
      "metadata": {
        "id": "oQupsgqo2Yj3"
      },
      "execution_count": null,
      "outputs": []
    },
    {
      "cell_type": "code",
      "source": [
        "duck = Bird()\n",
        "duck.fly()"
      ],
      "metadata": {
        "colab": {
          "base_uri": "https://localhost:8080/"
        },
        "id": "60AmgQfK8zwZ",
        "outputId": "e0b11e2d-a0e0-4065-871b-154dc304d92d"
      },
      "execution_count": null,
      "outputs": [
        {
          "output_type": "stream",
          "name": "stdout",
          "text": [
            "Birds can fly\n"
          ]
        }
      ]
    },
    {
      "cell_type": "code",
      "source": [
        "sparrow = Sparrow()\n",
        "sparrow.fly()\n"
      ],
      "metadata": {
        "colab": {
          "base_uri": "https://localhost:8080/"
        },
        "id": "VzmwQ1Xv9aHi",
        "outputId": "074b5ca5-c95c-483b-ef90-02845022a31a"
      },
      "execution_count": null,
      "outputs": [
        {
          "output_type": "stream",
          "name": "stdout",
          "text": [
            "Sparrows can fly\n"
          ]
        }
      ]
    },
    {
      "cell_type": "code",
      "source": [
        "#5. Write a program to demonstrate encapsulation by creating a class BankAccount with private attributes\n",
        "#balance and methods to deposit, withdraw, and check balance.\n",
        "class Bank_Account:\n",
        "    def __init__(self):\n",
        "        self.__balance__=0\n",
        "        print(\"Hello!!! Welcome to the Deposit & Withdrawal Machine\")\n",
        "\n",
        "    def deposit(self):\n",
        "        amount=float(input(\"Enter amount to be Deposited: \"))\n",
        "        self.__balance__ += amount\n",
        "        print(\"\\n Amount Deposited:\",amount)\n",
        "\n",
        "    def withdraw(self):\n",
        "        amount = float(input(\"Enter amount to be Withdrawn: \"))\n",
        "        if self.__balance__>=amount:\n",
        "            self.__balance__-=amount\n",
        "            print(\"\\n You Withdrew:\", amount)\n",
        "        else:\n",
        "            print(\"\\n Insufficient balance  \")\n",
        "\n",
        "    def display(self):\n",
        "        print(\"\\n Net Available Balance=\",self.__balance__)\n",
        "\n",
        "pranjal = Bank_Account()\n",
        "pranjal.deposit()\n",
        "pranjal.withdraw()\n",
        "pranjal.display()"
      ],
      "metadata": {
        "id": "cpcoEAcN9lZ7",
        "colab": {
          "base_uri": "https://localhost:8080/"
        },
        "outputId": "50892e6d-c95d-4a66-91ee-d326c06bf455"
      },
      "execution_count": 4,
      "outputs": [
        {
          "output_type": "stream",
          "name": "stdout",
          "text": [
            "Hello!!! Welcome to the Deposit & Withdrawal Machine\n",
            "Enter amount to be Deposited: 100\n",
            "\n",
            " Amount Deposited: 100.0\n",
            "Enter amount to be Withdrawn: 200\n",
            "\n",
            " Insufficient balance  \n",
            "\n",
            " Net Available Balance= 100.0\n"
          ]
        }
      ]
    },
    {
      "cell_type": "code",
      "source": [
        "#6. Demonstrate runtime polymorphism using a method play() in a base class Instrument. Derive classes Guitar\n",
        "#and Piano that implement their own version of play().\n",
        "# Base class\n",
        "class Instrument:\n",
        "    def play(self):\n",
        "        print(\"Playing an instrument\")\n",
        "\n",
        "# Derived classes\n",
        "class Guitar(Instrument):\n",
        "    def play(self):\n",
        "        print(\"Playing a guitar\")\n",
        "\n",
        "class Piano(Instrument):\n",
        "    def play(self):\n",
        "        print(\"Playing a piano\")\n",
        "\n",
        "# Demonstration\n",
        "guitar = Guitar()\n",
        "piano = Piano()\n",
        "\n",
        "# Call the play() method on the objects\n",
        "guitar.play()\n",
        "piano.play()\n",
        "\n",
        "# Demonstrate runtime polymorphism\n",
        "instrument = Instrument()\n",
        "instrument.play()\n",
        "\n",
        "instrument = Guitar()\n",
        "instrument.play()\n",
        "\n",
        "instrument = Piano()\n",
        "instrument.play()"
      ],
      "metadata": {
        "colab": {
          "base_uri": "https://localhost:8080/"
        },
        "id": "ffumKkwu13Lu",
        "outputId": "4c211f4a-9d04-4db2-f2cc-37778fbb484b"
      },
      "execution_count": 5,
      "outputs": [
        {
          "output_type": "stream",
          "name": "stdout",
          "text": [
            "Playing a guitar\n",
            "Playing a piano\n",
            "Playing an instrument\n",
            "Playing a guitar\n",
            "Playing a piano\n"
          ]
        }
      ]
    },
    {
      "cell_type": "code",
      "source": [
        "#7.Create a class MathOperations with a class method add_numbers() to add two numbers and a static\n",
        "#method subtract_numbers() to subtract two numbers.\n",
        "class MathOperations:\n",
        "    @classmethod\n",
        "    def add_numbers(cls, num1, num2):\n",
        "        return num1 + num2\n",
        "\n",
        "    @staticmethod\n",
        "    def subtract_numbers(num1, num2):\n",
        "        return num1 - num2\n",
        "operation = MathOperations()\n",
        "print(operation.add_numbers(2,3))\n",
        "print(operation.subtract_numbers(2,3))"
      ],
      "metadata": {
        "colab": {
          "base_uri": "https://localhost:8080/"
        },
        "id": "jbM8_ina3wl4",
        "outputId": "cf24c188-7d7e-4a1a-ab3c-5f423a0ccd7a"
      },
      "execution_count": 6,
      "outputs": [
        {
          "output_type": "stream",
          "name": "stdout",
          "text": [
            "5\n",
            "-1\n"
          ]
        }
      ]
    },
    {
      "cell_type": "code",
      "source": [
        "#8. Implement a class Person with a class method to count the total number of persons created.\n",
        "class Person:\n",
        "    count = 0\n",
        "\n",
        "    def __init__(self, name):\n",
        "        self.name = name\n",
        "        Person.count += 1\n",
        "a = Person('Pranjal')\n",
        "b = Person('Ajay')\n",
        "c = Person('Bijay')\n",
        "a.count"
      ],
      "metadata": {
        "colab": {
          "base_uri": "https://localhost:8080/"
        },
        "id": "cjmnUSBG49cl",
        "outputId": "6eaf8f24-5289-41b0-85b6-5661eedd0afd"
      },
      "execution_count": 7,
      "outputs": [
        {
          "output_type": "execute_result",
          "data": {
            "text/plain": [
              "3"
            ]
          },
          "metadata": {},
          "execution_count": 7
        }
      ]
    },
    {
      "cell_type": "code",
      "source": [
        "#9.Write a class Fraction with attributes numerator and denominator. Override the str method to display the\n",
        "#fraction as \"numerator/denominator\".\n",
        "class Fraction:\n",
        "    def __init__(self, numerator, denominator):\n",
        "        self.numerator = numerator\n",
        "        self.denominator = denominator\n",
        "\n",
        "    def __str__(self):\n",
        "        return f\"{self.numerator}/{self.denominator}\"\n",
        "fraction = Fraction(2, 3)\n",
        "print(fraction)"
      ],
      "metadata": {
        "colab": {
          "base_uri": "https://localhost:8080/"
        },
        "id": "8V6vd_oX58SO",
        "outputId": "9dfd6b07-4bda-497d-8d5a-a110536e7935"
      },
      "execution_count": 8,
      "outputs": [
        {
          "output_type": "stream",
          "name": "stdout",
          "text": [
            "2/3\n"
          ]
        }
      ]
    },
    {
      "cell_type": "code",
      "source": [
        "#10. Demonstrate operator overloading by creating a class Vector and overriding the add method to add two\n",
        "#vectors.\n",
        "class Vector:\n",
        "    def __init__(self, x, y):\n",
        "        self.x = x\n",
        "        self.y = y\n",
        "\n",
        "    def __str__(self):\n",
        "        return f\"({self.x}, {self.y})\"\n",
        "\n",
        "    def __add__(self, other):\n",
        "        return Vector(self.x + other.x, self.y + other.y)\n",
        "\n",
        "a = Vector( 2, 8)  #2i+8j\n",
        "b = Vector(3, 2)   #3x + 2y\n",
        "print(a)\n",
        "print(b)\n",
        "print (a+b)"
      ],
      "metadata": {
        "colab": {
          "base_uri": "https://localhost:8080/"
        },
        "id": "ZPO7IjoR6uHc",
        "outputId": "14659191-2307-4c1e-daf5-56ce2d18644b"
      },
      "execution_count": 15,
      "outputs": [
        {
          "output_type": "stream",
          "name": "stdout",
          "text": [
            "(2, 8)\n",
            "(3, 2)\n",
            "(5, 10)\n"
          ]
        }
      ]
    },
    {
      "cell_type": "code",
      "source": [
        "#11.. Create a class Person with attributes name and age. Add a method greet() that prints \"Hello, my name is\n",
        "#{name} and I am {age} years old.\n",
        "class Person:\n",
        "    def __init__(self, name, age):\n",
        "        self.name = name\n",
        "        self.age = age\n",
        "\n",
        "    def greet(self):\n",
        "        print(f\"Hello, my name is {self.name} and I am {self.age} years old.\")\n",
        "pranjal = Person('Pranjal', 31)\n",
        "pranjal.greet()"
      ],
      "metadata": {
        "colab": {
          "base_uri": "https://localhost:8080/"
        },
        "id": "p5ED2HUwLI-W",
        "outputId": "c0248b24-615d-4ce1-c352-81634782b145"
      },
      "execution_count": 17,
      "outputs": [
        {
          "output_type": "stream",
          "name": "stdout",
          "text": [
            "Hello, my name is Pranjal and I am 31 years old.\n"
          ]
        }
      ]
    },
    {
      "cell_type": "code",
      "source": [
        "#12. Implement a class Student with attributes name and grades. Create a method average_grade() to compute\n",
        "#the average of the grades.\n",
        "\n",
        "class Student:\n",
        "    def __init__( self, name, grades):\n",
        "        self.name = name\n",
        "        self.grades = grades\n",
        "    def average_grade(grades):\n",
        "        for i in self.grades:\n",
        "          return sum(grades)/len(grades)\n",
        "\n"
      ],
      "metadata": {
        "id": "-R-_86g1Lway"
      },
      "execution_count": 23,
      "outputs": []
    },
    {
      "cell_type": "code",
      "source": [
        "#13. Create a class Rectangle with methods set_dimensions() to set the dimensions and area() to calculate the\n",
        "#area.\n",
        "\n",
        "class Rectangle:\n",
        "    def __init__(self, length, width):\n",
        "        self.length = length\n",
        "        self.width = width\n",
        "    def set_dimensions(self, length, width):\n",
        "        self.length = length\n",
        "        self.width = width\n",
        "    def area(self):\n",
        "        return self.length * self.width\n",
        ""
      ],
      "metadata": {
        "id": "MTWt0rylQ866"
      },
      "execution_count": 24,
      "outputs": []
    },
    {
      "cell_type": "code",
      "source": [
        "#14.Create a class Employee with a method calculate_salary() that computes the salary based on hours worked\n",
        "#and hourly rate. Create a derived class Manager that adds a bonus to the salary\n",
        "class Employee:\n",
        "    def __init__(self, name, hours_worked, hourly_rate):\n",
        "        self.name = name\n",
        "        self.hours_worked = hours_worked\n",
        "        self.hourly_rate = hourly_rate\n",
        "    def calculate_salary(self):\n",
        "        print('The base salary has been',self.hours_worked * self.hourly_rate)\n",
        "        return self.hours_worked * self.hourly_rate\n",
        "class Manager(Employee):\n",
        "    def __init__(self, name, hours_worked, hourly_rate, bonus=1000):\n",
        "        super().__init__(name, hours_worked, hourly_rate)\n",
        "        self.bonus = bonus\n",
        "    def calculate_salary(self):\n",
        "        print('The bonus stands at 1000')\n",
        "        return print(Employee.calculate_salary(self) + 1000, 'is the net salary')\n",
        "\n",
        "\n",
        "foreman = Employee('Pranjal', 40, 15)\n",
        "hr = Manager('Ajay', 40, 15)\n",
        "foreman.calculate_salary()\n",
        "hr.calculate_salary()"
      ],
      "metadata": {
        "colab": {
          "base_uri": "https://localhost:8080/"
        },
        "id": "qwEKOxIhTNW4",
        "outputId": "da7738d9-2dd6-4687-e24f-3d02e9ad87e7"
      },
      "execution_count": 33,
      "outputs": [
        {
          "output_type": "stream",
          "name": "stdout",
          "text": [
            "The base salary has been 600\n",
            "The bonus stands at 1000\n",
            "The base salary has been 600\n",
            "1600 is the net salary\n"
          ]
        }
      ]
    },
    {
      "cell_type": "code",
      "source": [
        "#15. Create a class Product with attributes name, price, and quantity. Implement a method total_price() that\n",
        "#calculates the total price of the product.\n",
        "class Product:\n",
        "    def __init__(self, name, price, quantity):\n",
        "        self.name = name\n",
        "        self.price = price\n",
        "        self.quantity = quantity\n",
        "    def total_price(self):\n",
        "        return print(self.price * self.quantity, 'is the total price')\n",
        "\n",
        "\n",
        "apple = Product('Apple', 100, 2)\n",
        "apple.total_price()"
      ],
      "metadata": {
        "colab": {
          "base_uri": "https://localhost:8080/"
        },
        "id": "e1VaJpAUUwiP",
        "outputId": "e4b9bfe3-c774-4f95-d04f-e419a0104719"
      },
      "execution_count": 34,
      "outputs": [
        {
          "output_type": "stream",
          "name": "stdout",
          "text": [
            "200 is the total price\n"
          ]
        }
      ]
    },
    {
      "cell_type": "code",
      "source": [
        "#16. Create a class Animal with an abstract method sound(). Create two derived classes Cow and Sheep that\n",
        "#implement the sound() method.\n",
        "\n",
        "from abc import ABC, abstractmethod\n",
        "\n",
        "# Define an abstract class\n",
        "class Animal(ABC):\n",
        "\n",
        "    @abstractmethod\n",
        "    def sound(self):  # attributes and methods defined by child classes\n",
        "        pass\n",
        "class Cow(Animal):\n",
        "\n",
        "    def sound(self):\n",
        "        return \"Moo\"  # Providing the implementation of the abstract method\n",
        "class Sheep(Animal):\n",
        "\n",
        "    def sound(self):\n",
        "        return \"Baaa\"  # Providing the implementation of the abstract method\n",
        "# Create an instance of Dog\n",
        "cow = Cow()\n",
        "print(cow.sound())\n",
        "sheep = Sheep()\n",
        "print(sheep.sound())"
      ],
      "metadata": {
        "colab": {
          "base_uri": "https://localhost:8080/"
        },
        "id": "GVqHrBf5aa6G",
        "outputId": "bc5244fb-9ca4-4492-8318-99238d091219"
      },
      "execution_count": 36,
      "outputs": [
        {
          "output_type": "stream",
          "name": "stdout",
          "text": [
            "Moo\n",
            "Baaa\n"
          ]
        }
      ]
    },
    {
      "cell_type": "code",
      "source": [
        "#17. Create a class Book with attributes title, author, and year_published. Add a method get_book_info() that\n",
        "#returns a formatted string with the book's details.\n",
        "class Book:\n",
        "    def __init__(self, title, author, year_published):\n",
        "        self.title = title\n",
        "        self.author = author\n",
        "        self.year_published = year_published\n",
        "    def get_book_info(self):\n",
        "         return f\"Title: {self.title}\\nAuthor: {self.author}\\nYear Published: {self.year_published}\"\n",
        "\n",
        "sw = Book('SadhguruWisdom', 'Pranjal', year_published= 2023)\n",
        "print(sw.get_book_info())\n"
      ],
      "metadata": {
        "colab": {
          "base_uri": "https://localhost:8080/"
        },
        "id": "Kj5aYaGMbAAo",
        "outputId": "fcb5ac0f-8c37-4923-95ca-55a4d8b166a3"
      },
      "execution_count": 46,
      "outputs": [
        {
          "output_type": "stream",
          "name": "stdout",
          "text": [
            "Title: SadhguruWisdom\n",
            "Author: Pranjal\n",
            "Year Published: 2023\n"
          ]
        }
      ]
    },
    {
      "cell_type": "code",
      "source": [
        "#18. Create a class House with attributes address and price. Create a derived class Mansion that adds an\n",
        "#attribute number_of_rooms.\n",
        "class House:\n",
        "    def __init__(self, address, price):\n",
        "        self.address = address\n",
        "        self.price = price\n",
        "class Mansion(House):\n",
        "    def __init__(self, address, price, number_of_rooms):\n",
        "        super().__init__(address, price)\n",
        "        self.number_of_rooms = number_of_rooms\n",
        "\n",
        "\n",
        ""
      ],
      "metadata": {
        "id": "Ex7RKj5qc1Dl"
      },
      "execution_count": null,
      "outputs": []
    }
  ]
}